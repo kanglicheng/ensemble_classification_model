{
 "cells": [
  {
   "cell_type": "markdown",
   "metadata": {},
   "source": [
    "# Modeling MNIST using a CNN"
   ]
  },
  {
   "cell_type": "markdown",
   "metadata": {},
   "source": [
    "## Resources\n",
    "1. [KL-divergent](https://www.countbayesie.com/blog/2017/5/9/kullback-leibler-divergence-explained)\n",
    "2. [Evidence Lower Bound](https://www.cs.cmu.edu/~epxing/Class/10708-15/notes/10708_scribe_lecture13.pdf)"
   ]
  },
  {
   "cell_type": "code",
   "execution_count": 4,
   "metadata": {
    "collapsed": true
   },
   "outputs": [],
   "source": [
    "import os\n",
    "import numpy as np\n",
    "import pandas as pd\n",
    "import seaborn as sns\n",
    "import torch\n",
    "import torch.nn as nn\n",
    "import torch.optim as optim\n",
    "import torch.nn.functional as F\n",
    "import torchvision\n",
    "from torch.utils.data import TensorDataset\n",
    "import matplotlib.pyplot as plt"
   ]
  },
  {
   "cell_type": "markdown",
   "metadata": {},
   "source": [
    "Test Brier Score Loss"
   ]
  },
  {
   "cell_type": "code",
   "execution_count": 5,
   "metadata": {},
   "outputs": [
    {
     "name": "stdout",
     "output_type": "stream",
     "text": [
      "my result tensor(0.0341, dtype=torch.float64)\n",
      "mse tensor(0.0341, dtype=torch.float64)\n",
      "1.0\n",
      "1.0\n",
      "tensor(1., dtype=torch.float64)\n"
     ]
    }
   ],
   "source": [
    "from sklearn.metrics import brier_score_loss as bl\n",
    "y_true = np.array([[0, 1, 1, 0], [0, 1, 1, 0]])\n",
    "y_prob = np.array([[0.1, 0.9, 0.8, 0.25], [0.1, 0.9, 0.8, 0.3]])\n",
    "sk_result = bl(y_true[0], y_prob[0])\n",
    "\n",
    "def brier_score_loss(prob, targets):\n",
    "    assert prob.size() == targets.size(), \\\n",
    "    \"pro shape {} differs from targets shape {}\".format(prob.size(), targets.size())\n",
    "    #using -1 so that either one dimension or two dimension both works\n",
    "    tally = torch.mean(torch.pow(prob - targets, 2), dim=-1) #b * c\n",
    "    #print('tally', tally)\n",
    "    return torch.mean(tally, dim=0)\n",
    "    \n",
    "\n",
    "y_true = torch.tensor(y_true)\n",
    "y_prob = torch.tensor(y_prob)\n",
    "\n",
    "py_result = brier_score_loss(y_prob, y_true)\n",
    "print('my result', py_result)\n",
    "\n",
    "mseloss = torch.nn.MSELoss(reduction='mean')\n",
    "print('mse', mseloss(y_prob, y_true))\n",
    "\n",
    "y_true = np.ones((2, 3))\n",
    "y_prob = np.zeros((2, 3))\n",
    "for i in range(y_true.shape[0]):\n",
    "    sk_result = bl(y_true[i], y_prob[i])\n",
    "    print(sk_result)\n",
    "y_true = torch.tensor(y_true)\n",
    "y_prob = torch.tensor(y_prob)\n",
    "py_result = brier_score_loss(y_prob, y_true)\n",
    "print(py_result)"
   ]
  },
  {
   "cell_type": "markdown",
   "metadata": {},
   "source": [
    "## Train neural network on MNIST data\n",
    "\n",
    "Define network structures and loss functions"
   ]
  },
  {
   "cell_type": "code",
   "execution_count": 6,
   "metadata": {
    "collapsed": true
   },
   "outputs": [],
   "source": [
    "class Net(nn.Module):\n",
    "    def __init__(self):\n",
    "        super(Net, self).__init__()\n",
    "        self.conv1 = nn.Conv2d(1, 32, 3, 1)\n",
    "        self.conv2 = nn.Conv2d(32, 64, 3, 1)\n",
    "        self.fc1 = nn.Linear(5*5*64, 10)\n",
    "        self.fc2 = nn.Linear(500, 10)\n",
    "\n",
    "    def forward(self, x):\n",
    "        x = F.relu(self.conv1(x))\n",
    "        x = F.max_pool2d(x, 2, 2)\n",
    "        x = F.relu(self.conv2(x))\n",
    "        x = F.max_pool2d(x, 2, 2)\n",
    "        x = x.view(-1, 5*5*64)\n",
    "        return self.fc1(x)"
   ]
  },
  {
   "cell_type": "markdown",
   "metadata": {},
   "source": [
    "Set up loss function, set it to `bce` to use multi-label cross entropy loss."
   ]
  },
  {
   "cell_type": "code",
   "execution_count": 7,
   "metadata": {
    "collapsed": true
   },
   "outputs": [],
   "source": [
    "LOSS_TYPE = 'mse'\n",
    "loss_fun = brier_score_loss if LOSS_TYPE == 'mse' else nn.BCEWithLogitsLoss()"
   ]
  },
  {
   "cell_type": "markdown",
   "metadata": {},
   "source": [
    "Create the network and load the datasets."
   ]
  },
  {
   "cell_type": "code",
   "execution_count": 8,
   "metadata": {
    "collapsed": true
   },
   "outputs": [],
   "source": [
    "model = Net()\n",
    "batch_size_train = 256\n",
    "batch_size_test = 1000\n",
    "num_classes = 10"
   ]
  },
  {
   "cell_type": "markdown",
   "metadata": {},
   "source": [
    "Load not mnist dataset"
   ]
  },
  {
   "cell_type": "code",
   "execution_count": 9,
   "metadata": {
    "collapsed": true
   },
   "outputs": [],
   "source": [
    "import glob\n",
    "import numpy as np\n",
    "from PIL import Image\n",
    "# https://www.pluralsight.com/guides/importing-image-data-into-numpy-arrays\n",
    "\n",
    "root_dir = '/mnt/shared/liyin/public_html/not_mnist_dataset/notMNIST_small'\n",
    "\n",
    "letter_labels = {k: chr(v) for k, v in zip(range(10), range(ord('A'), ord('A')+10))}\n",
    "counter = {k: 0 for k, v in zip(range(10), [0]*10)}\n",
    "\n",
    "def load_not_mnist():\n",
    "    glob.glob(f'{root_dir}/[A-J]') #f'{root_dir}/**/'\n",
    "    labels = []\n",
    "    images = []\n",
    "    for subpath in glob.glob(f'{root_dir}/[A-J]/'):\n",
    "        label = subpath.split('/')[-2]\n",
    "        int_label = ord(label) - ord('A')\n",
    "        count = 0\n",
    "        for img_path in glob.glob(f'{subpath}*.png'):\n",
    "            try:\n",
    "                image = Image.open(img_path)\n",
    "            except IOError:\n",
    "                print(f'cant open image {img_path}')\n",
    "                continue\n",
    "            count += 1\n",
    "            image = np.asarray(image)\n",
    "            images.append(image)\n",
    "            labels.append(int_label)\n",
    "            counter[int_label] += 1\n",
    "            if count == 1000:\n",
    "                break\n",
    "    labels = np.stack(labels, axis=0).astype(np.uint8)\n",
    "    images = np.stack(images, axis=0)\n",
    "    print(labels.shape, images.shape)\n",
    "    return images, labels"
   ]
  },
  {
   "cell_type": "code",
   "execution_count": 10,
   "metadata": {},
   "outputs": [
    {
     "name": "stdout",
     "output_type": "stream",
     "text": [
      "cant open image /mnt/shared/liyin/public_html/not_mnist_dataset/notMNIST_small/F/Q3Jvc3NvdmVyIEJvbGRPYmxpcXVlLnR0Zg==.png\n",
      "(10000,) (10000, 28, 28)\n"
     ]
    }
   ],
   "source": [
    "images, labels = load_not_mnist()"
   ]
  },
  {
   "cell_type": "markdown",
   "metadata": {},
   "source": [
    "Load Fashion MNIST"
   ]
  },
  {
   "cell_type": "code",
   "execution_count": 11,
   "metadata": {
    "collapsed": true
   },
   "outputs": [],
   "source": [
    "def load_mnist(path, kind='train'):\n",
    "    import os\n",
    "    import gzip\n",
    "    import numpy as np\n",
    "\n",
    "    \"\"\"Load MNIST data from `path`\"\"\"\n",
    "    labels_path = os.path.join(path,\n",
    "                               '%s-labels-idx1-ubyte.gz'\n",
    "                               % kind)\n",
    "    images_path = os.path.join(path,\n",
    "                               '%s-images-idx3-ubyte.gz'\n",
    "                               % kind)\n",
    "\n",
    "    with gzip.open(labels_path, 'rb') as lbpath:\n",
    "        labels = np.frombuffer(lbpath.read(), dtype=np.uint8,\n",
    "                               offset=8)\n",
    "\n",
    "    with gzip.open(images_path, 'rb') as imgpath:\n",
    "        images = np.frombuffer(imgpath.read(), dtype=np.uint8,\n",
    "                               offset=16).reshape(len(labels), 784)\n",
    "\n",
    "    return images, labels"
   ]
  },
  {
   "cell_type": "code",
   "execution_count": 12,
   "metadata": {
    "collapsed": true
   },
   "outputs": [],
   "source": [
    "root_dir_fashion = root_dir_fashion = '/mnt/shared/liyin/public_html/fashion_mnist_datasets/'\n",
    "X_train, y_train = load_mnist(root_dir_fashion, kind='train')\n",
    "X_test, y_test = load_mnist(root_dir_fashion, kind='t10k')"
   ]
  },
  {
   "cell_type": "code",
   "execution_count": 13,
   "metadata": {},
   "outputs": [
    {
     "name": "stdout",
     "output_type": "stream",
     "text": [
      "(10000, 784) (10000,)\n"
     ]
    },
    {
     "data": {
      "text/plain": [
       "array([9, 2, 1, ..., 8, 1, 5], dtype=uint8)"
      ]
     },
     "execution_count": 13,
     "metadata": {
      "bento_obj_id": "140500592395488"
     },
     "output_type": "execute_result"
    }
   ],
   "source": [
    "print(X_test.shape, y_test.shape)\n",
    "y_test\n",
    "#np.reshape(X_test[0], (28, 28))"
   ]
  },
  {
   "cell_type": "code",
   "execution_count": 14,
   "metadata": {
    "collapsed": true
   },
   "outputs": [],
   "source": [
    "# Customize a dataset\n",
    "from torch.utils.data import Dataset\n",
    "from PIL import Image\n",
    "\n",
    "class FashionMNISTDataset(Dataset):\n",
    "    def __init__(self, data, targets, train=True, transform=None, target_transform=None):\n",
    "        self.data = data\n",
    "        self.targets = targets\n",
    "        self.transform = transform\n",
    "        self.target_transform = target_transform\n",
    "\n",
    "    def __getitem__(self, index):\n",
    "        \"\"\"\n",
    "        Args:\n",
    "            index (int): Index\n",
    "\n",
    "        Returns:\n",
    "            tuple: (image, target) where target is index of the target class.\n",
    "        \"\"\"\n",
    "        img, target = self.data[index], int(self.targets[index])\n",
    "\n",
    "        # doing this so that it is consistent with all other datasets\n",
    "        # to return a PIL Image\n",
    "        img = Image.fromarray(np.reshape(img, (28, 28)), mode='L')\n",
    "\n",
    "        if self.transform is not None:\n",
    "            img = self.transform(img)\n",
    "\n",
    "        if self.target_transform is not None:\n",
    "            target = self.target_transform(target)\n",
    "\n",
    "        return img, target\n",
    "\n",
    "    def __len__(self):\n",
    "        return len(self.data)\n",
    "    \n",
    "class NotMNISTDataset(Dataset):\n",
    "    def __init__(self, data, targets, train=True, transform=None, target_transform=None):\n",
    "        self.data = data\n",
    "        self.targets = targets\n",
    "        self.transform = transform\n",
    "        self.target_transform = target_transform\n",
    "\n",
    "    def __getitem__(self, index):\n",
    "        \"\"\"\n",
    "        Args:\n",
    "            index (int): Index\n",
    "\n",
    "        Returns:\n",
    "            tuple: (image, target) where target is index of the target class.\n",
    "        \"\"\"\n",
    "        img, target = self.data[index], int(self.targets[index])\n",
    "\n",
    "        # doing this so that it is consistent with all other datasets\n",
    "        # to return a PIL Image\n",
    "        img = Image.fromarray(img, mode='L')\n",
    "\n",
    "        if self.transform is not None:\n",
    "            img = self.transform(img)\n",
    "\n",
    "        if self.target_transform is not None:\n",
    "            target = self.target_transform(target)\n",
    "\n",
    "        return img, target\n",
    "\n",
    "    def __len__(self):\n",
    "        return len(self.data)"
   ]
  },
  {
   "cell_type": "code",
   "execution_count": 15,
   "metadata": {
    "collapsed": true
   },
   "outputs": [],
   "source": [
    "def load_fashion_mnist_data(batch_size_train, batch_size_test, X_train, y_train, X_test, y_test, dataset = FashionMNISTDataset):\n",
    "    transform = torchvision.transforms.Compose(\n",
    "        [torchvision.transforms.ToTensor(),\n",
    "         torchvision.transforms.Normalize((0.5, 0.5, 0.5), (0.5, 0.5, 0.5))])\n",
    "    \n",
    "    train_loader = None\n",
    "    test_loader = None\n",
    "    \n",
    "    if X_train is not None and y_train is not None:\n",
    "\n",
    "        train_loader = torch.utils.data.DataLoader(\n",
    "          dataset(X_train, y_train, transform=torchvision.transforms.Compose([\n",
    "                                       torchvision.transforms.ToTensor(),\n",
    "                                       torchvision.transforms.Normalize(\n",
    "                                         (0.1307,), (0.3081,))\n",
    "                                     ])),\n",
    "          batch_size=batch_size_train, shuffle=True)\n",
    "    \n",
    "    if X_test is not None and y_test is not None:\n",
    "        test_loader = torch.utils.data.DataLoader(\n",
    "          dataset(X_test, y_test, transform=torchvision.transforms.Compose([\n",
    "                                       torchvision.transforms.ToTensor(),\n",
    "                                       torchvision.transforms.Normalize(\n",
    "                                         (0.1307,), (0.3081,))\n",
    "                                     ])),\n",
    "          batch_size=batch_size_test, shuffle=True)\n",
    "    return (train_loader, test_loader)"
   ]
  },
  {
   "cell_type": "markdown",
   "metadata": {},
   "source": [
    "## Ensemling Training\n",
    "\n",
    "Set a total of 5 networks, and each is trained independently. The final prediction comes with the averaged output."
   ]
  },
  {
   "cell_type": "code",
   "execution_count": 16,
   "metadata": {
    "collapsed": true
   },
   "outputs": [],
   "source": [
    "import numpy as np\n",
    "def load_mnist_train_data(batch_size_train, num_loaders):\n",
    "    root_dir = '/mnt/homedir/jaix/public_html/mnist_datasets/'\n",
    "\n",
    "    return [torch.utils.data.DataLoader(\n",
    "      torchvision.datasets.MNIST(root=root_dir, train=True, download=False,\n",
    "                                 transform=torchvision.transforms.Compose([\n",
    "                                   torchvision.transforms.ToTensor(),\n",
    "                                   torchvision.transforms.Normalize(\n",
    "                                     (0.1307,), (0.3081,))\n",
    "                                 ])),\n",
    "      batch_size=batch_size_train, shuffle=True) for _ in range(num_loaders)]\n",
    "\n",
    "def load_mnist_test_data(batch_size_test):\n",
    "    root_dir = '/mnt/homedir/jaix/public_html/mnist_datasets/'  \n",
    "    test_loader = torch.utils.data.DataLoader(\n",
    "      torchvision.datasets.MNIST(root=root_dir, train=False, download=False,\n",
    "                                 transform=torchvision.transforms.Compose([\n",
    "                                   torchvision.transforms.ToTensor(),\n",
    "                                   torchvision.transforms.Normalize(\n",
    "                                     (0.1307,), (0.3081,))\n",
    "                                 ])),\n",
    "      batch_size=batch_size_test, shuffle=True)\n",
    "    return test_loader\n",
    "\n",
    "\n",
    "def train_ensemble(log_interval, models, train_loaders, optimizers, epoch):\n",
    "    #assert torch.equal(models[0].conv1.weight.data, models[1].conv1.weight.data) == False\n",
    "\n",
    "    for model in models:\n",
    "        model.train()\n",
    "\n",
    "    #loss_fun = nn.CrossEntropyLoss()\n",
    "    for batch_idx, batch_datas in enumerate(zip(*train_loaders)):\n",
    "        # Make sure each model takes different data at each batch\n",
    "        #assert torch.equal(batch_datas[0][1], batch_datas[1][1]) == False\n",
    "        losses = []\n",
    "\n",
    "        for model_idx, (data, target) in enumerate(batch_datas):\n",
    "            optimizers[model_idx].zero_grad()\n",
    "            output = models[model_idx](data)\n",
    "            if LOSS_TYPE == 'mse':\n",
    "                output = F.softmax(output, dim=1)\n",
    "            #assert torch.abs(torch.sum(output[0])-1.0) <= 1e-6, '{}'.format(torch.sum(output[0]))\n",
    "\n",
    "            one_hot_target =(target.unsqueeze_(dim=1) == torch.arange(num_classes).reshape(1, num_classes)).float()          \n",
    "            \n",
    "            loss = loss_fun(output, one_hot_target.squeeze_(dim=1)) # multi-label cross entropy loss\n",
    "            loss.backward()\n",
    "            optimizers[model_idx].step()\n",
    "            losses.append(loss)\n",
    "        mean_loss = torch.mean(torch.stack(losses), dim=0)\n",
    "\n",
    "        if batch_idx % log_interval == 0:\n",
    "            print('Train Epoch: {} [{}/{} ({:.0f}%)]\\tLoss: {:.6f}'.format(\n",
    "                epoch, batch_idx * len(data), len(train_loaders[0].dataset),\n",
    "                100. * batch_idx / num_iterations, mean_loss.item()))\n",
    "        #return\n",
    "\n",
    "def test_ensemble(models, test_loader):\n",
    "    for model in models:\n",
    "        model.eval()\n",
    "    model_losses = [0] * len(models)\n",
    "    model_accs = [0] * len(models)\n",
    "    model_pros = [0] * len(models)\n",
    "    ensemble_acc = 0\n",
    "    ensemble_pro = 0\n",
    "    single_pro = 0\n",
    "    ensembe_variation = 0\n",
    "    with torch.no_grad():   \n",
    "        for data, target in test_loader:\n",
    "            outputs = []\n",
    "            test_losses=[]\n",
    "            accs = []\n",
    "            for idx, model in enumerate(models):\n",
    "                output = model(data)\n",
    "                target_unsqueeze = torch.unsqueeze(target, dim=1)\n",
    "                one_hot_target =(target_unsqueeze == torch.arange(num_classes).reshape(1, num_classes)).float()          \n",
    "                one_hot_target_squeeze= torch.squeeze(one_hot_target, dim=1)\n",
    "                if LOSS_TYPE == 'mse':\n",
    "                    output = F.softmax(output, dim=1)\n",
    "\n",
    "                loss = loss_fun(output, one_hot_target).item() # sum up batch loss\n",
    "                if LOSS_TYPE != 'mse':\n",
    "                    output = F.softmax(output, dim=1) #.type(torch.FloatTensor)    \n",
    "                # get label\n",
    "                pred = output.argmax(dim=1, keepdim=True) # get the index of the max log-probability\n",
    "                acc = pred.eq(target.view_as(pred)).sum().item()\n",
    "                prod = output.max(dim=1, keepdim=True)[0]\n",
    "                outputs.append(output)\n",
    "                test_losses.append(loss)\n",
    "                accs.append(acc)\n",
    "                model_losses[idx] += loss\n",
    "                model_accs[idx] += acc\n",
    "                model_pros[idx] += torch.mean(prod) # mean probability on the batch\n",
    "                # make sure the output sum up to be 1\n",
    "                assert torch.abs(torch.sum(output[0])-1.0) <= 1e-6, '{}'.format(torch.sum(output[0]))\n",
    "            stacked_outputs = torch.stack(outputs, dim = 0)\n",
    "                         \n",
    "            # get the ensemled output probability            \n",
    "            ensemble_output = torch.mean(stacked_outputs, dim = 0)\n",
    "            # predicted labels and accuracy \n",
    "            ensemle_pred = ensemble_output.argmax(dim=1, keepdim=True) # get the index of the max log-probability\n",
    "            ensemble_acc += ensemle_pred.eq(target.view_as(ensemle_pred)).sum().item()\n",
    "            \n",
    "            # Get ensemble probability\n",
    "            pred = ensemble_output.max(dim=1, keepdim=True)[0] # convert it to probability, 1000 * 1\n",
    "            ensemble_pro += torch.mean(pred)\n",
    "            assert torch.abs(torch.sum(ensemble_output[0])-1.0) <= 1e-6, '{}'.format(torch.sum(ensemble_output[0]))\n",
    "            \n",
    "   \n",
    "    avg_model_loss = np.array(model_losses) / len(test_loader)\n",
    "    avg_model_acc = np.array(model_accs) / len(test_loader.dataset)\n",
    "    avg_model_pro = np.array(model_pros) / len(test_loader)\n",
    "    avg_ensemble_acc = ensemble_acc / len(test_loader.dataset)\n",
    "    avg_ensemble_pro = ensemble_pro / len(test_loader)\n",
    "    single_pro /= len(test_loader)\n",
    "\n",
    "    print('\\nTest set: Average loss: {}, Accuracy: {}/{} ({}), probabilities: {}%, Ensemble Accuray: {}%, Ensemble Prediction Score: {}. \\n'.format(\n",
    "        avg_model_loss, model_accs, len(test_loader.dataset),\n",
    "        avg_model_acc, avg_model_pro, avg_ensemble_acc, avg_ensemble_pro ) )\n",
    "    single_net_acc = avg_model_acc[0]\n",
    "    ensemble_net_acc = avg_ensemble_acc\n",
    "    single_net_prob = avg_model_pro[0]\n",
    "    ensemble_net_prob = avg_ensemble_pro\n",
    "    return (single_net_acc, ensemble_net_acc, single_net_prob, ensemble_net_prob)"
   ]
  },
  {
   "cell_type": "code",
   "execution_count": 17,
   "metadata": {
    "collapsed": true
   },
   "outputs": [],
   "source": [
    "num_networks = 5\n",
    "train_loaders, test_loader = load_mnist_train_data(batch_size_train, num_networks), \\\n",
    "                            load_mnist_test_data(batch_size_test)"
   ]
  },
  {
   "cell_type": "code",
   "execution_count": 18,
   "metadata": {},
   "outputs": [
    {
     "data": {
      "text/plain": [
       "(<torch.utils.data.dataloader.DataLoader at 0x7fc8ac71b310>,\n",
       " <torch.utils.data.dataloader.DataLoader at 0x7fc8ac71b4d0>)"
      ]
     },
     "execution_count": 18,
     "metadata": {
      "bento_obj_id": "140499863327600"
     },
     "output_type": "execute_result"
    }
   ],
   "source": [
    "classes = ['T-shirt/top', 'Trouser', 'Pullover', 'Dress', 'Coat', 'Sandal',\n",
    "               'Shirt', 'Sneaker', 'Bag', 'Ankle boot']\n",
    "fashion_train_loader, fashion_test_loader = load_fashion_mnist_data(batch_size_train, batch_size_test, X_train, y_train, \n",
    "                                                                    X_test, y_test)\n",
    "fashion_train_loader, fashion_test_loader"
   ]
  },
  {
   "cell_type": "code",
   "execution_count": 19,
   "metadata": {},
   "outputs": [
    {
     "data": {
      "text/plain": [
       "<torch.utils.data.dataloader.DataLoader at 0x7fc8ac772e50>"
      ]
     },
     "execution_count": 19,
     "metadata": {
      "bento_obj_id": "140499863678544"
     },
     "output_type": "execute_result"
    }
   ],
   "source": [
    "_, not_mnist_test_loader = load_fashion_mnist_data(batch_size_train, batch_size_test, None, None,\n",
    "                                                   images, labels, dataset=NotMNISTDataset)\n",
    "not_mnist_test_loader"
   ]
  },
  {
   "cell_type": "markdown",
   "metadata": {},
   "source": [
    "Visualize the datasets"
   ]
  },
  {
   "cell_type": "code",
   "execution_count": 20,
   "metadata": {
    "collapsed": true
   },
   "outputs": [],
   "source": [
    "def plot_first_6(x, y, classes):\n",
    "    fig = plt.figure()\n",
    "    for i in range(6):\n",
    "      plt.subplot(2,3,i+1)\n",
    "      plt.tight_layout()\n",
    "      plt.imshow(x[i][0], cmap='gray', interpolation='none')\n",
    "      label = y[i].data.item()\n",
    "      plt.title(\"Prediction: {}\".format(\n",
    "        classes[label]))\n",
    "      plt.xticks([])\n",
    "      plt.yticks([])\n",
    "    fig\n",
    "\n"
   ]
  },
  {
   "cell_type": "code",
   "execution_count": 21,
   "metadata": {},
   "outputs": [
    {
     "data": {
      "image/png": "[encoded data removed]",
      "text/plain": [
       "<Figure size 432x288 with 6 Axes>"
      ]
     },
     "metadata": {
      "bento_obj_id": "140499863322320"
     },
     "output_type": "display_data"
    }
   ],
   "source": [
    "examples = enumerate(test_loader)\n",
    "batch_idx, (example_data, example_targets) = next(examples)\n",
    "plot_first_6(example_data, example_targets, classes={k: v for k, v in zip(range(10), range(10))})"
   ]
  },
  {
   "cell_type": "code",
   "execution_count": 22,
   "metadata": {},
   "outputs": [
    {
     "data": {
      "image/png": "[encoded data removed]",
      "text/plain": [
       "<Figure size 432x288 with 6 Axes>"
      ]
     },
     "metadata": {
      "bento_obj_id": "140499863175760"
     },
     "output_type": "display_data"
    }
   ],
   "source": [
    "examples = enumerate(fashion_test_loader)\n",
    "batch_idx, (example_data, example_targets) = next(examples)\n",
    "plot_first_6(example_data, example_targets, classes)"
   ]
  },
  {
   "cell_type": "code",
   "execution_count": 23,
   "metadata": {},
   "outputs": [
    {
     "data": {
      "image/png": "[encoded data removed]",
      "text/plain": [
       "<Figure size 432x288 with 6 Axes>"
      ]
     },
     "metadata": {
      "bento_obj_id": "140499391391696"
     },
     "output_type": "display_data"
    }
   ],
   "source": [
    "examples = enumerate(not_mnist_test_loader)\n",
    "batch_idx, (example_data, example_targets) = next(examples)\n",
    "plot_first_6(example_data, example_targets, letter_labels)"
   ]
  },
  {
   "cell_type": "markdown",
   "metadata": {},
   "source": [
    "Train the ensemble model: 20 epochs with adam optimizer"
   ]
  },
  {
   "cell_type": "code",
   "execution_count": null,
   "metadata": {},
   "outputs": [
    {
     "name": "stdout",
     "output_type": "stream",
     "text": [
      "Train Epoch: 1 [0/60000 (0%)]\tLoss: 0.090733\n",
      "Train Epoch: 1 [25600/60000 (43%)]\tLoss: 0.004728\n",
      "Train Epoch: 1 [51200/60000 (85%)]\tLoss: 0.003632\n",
      "\n",
      "Test set: Average loss: [0.00335951 0.00250981 0.00239486 0.00260411 0.00292401], Accuracy: [9788, 9832, 9849, 9826, 9807]/10000 ([0.9788 0.9832 0.9849 0.9826 0.9807]), probabilities: [0.9807345  0.97684014 0.98240185 0.98413277 0.9836049 ]%, Ensemble Accuray: 0.9864%, Ensemble Prediction Score: 0.9771267771720886. \n",
      "\n",
      "\n",
      "Test set: Average loss: [0.14635367 0.11906421 0.12724103 0.13473308 0.13462244], Accuracy: [829, 1181, 984, 531, 580]/10000 ([0.0829 0.1181 0.0984 0.0531 0.058 ]), probabilities: [0.73596936 0.56416726 0.6175355  0.61845565 0.63846964]%, Ensemble Accuray: 0.075%, Ensemble Prediction Score: 0.5544369220733643. \n",
      "\n",
      "\n",
      "Test set: Average loss: [0.1454648  0.14397165 0.14371834 0.14265257 0.14036608], Accuracy: [1520, 1414, 1313, 1385, 1511]/10000 ([0.152  0.1414 0.1313 0.1385 0.1511]), probabilities: [0.8303641  0.8003825  0.7871755  0.7847663  0.78527343]%, Ensemble Accuray: 0.1447%, Ensemble Prediction Score: 0.6880370378494263. \n",
      "\n",
      "Train Epoch: 2 [0/60000 (0%)]\tLoss: 0.002831\n",
      "Train Epoch: 2 [25600/60000 (43%)]\tLoss: 0.002131\n",
      "Train Epoch: 2 [51200/60000 (85%)]\tLoss: 0.003055\n",
      "\n",
      "Test set: Average loss: [0.00255779 0.00229617 0.00265152 0.00238355 0.0027762 ], Accuracy: [9834, 9843, 9831, 9845, 9819]/10000 ([0.9834 0.9843 0.9831 0.9845 0.9819]), probabilities: [0.9856909  0.98667014 0.98674977 0.98878115 0.9862751 ]%, Ensemble Accuray: 0.9897%, Ensemble Prediction Score: 0.981499969959259. \n",
      "\n",
      "\n",
      "Test set: Average loss: [0.14124228 0.14382955 0.13855092 0.14185529 0.14436834], Accuracy: [1158, 772, 942, 898, 600]/10000 ([0.1158 0.0772 0.0942 0.0898 0.06  ]), probabilities: [0.72310054 0.7121183  0.6904046  0.7103966  0.69427896]%, Ensemble Accuray: 0.0835%, Ensemble Prediction Score: 0.598824143409729. \n",
      "\n",
      "\n",
      "Test set: Average loss: [0.153287   0.1441612  0.14751042 0.14940247 0.14431318], Accuracy: [1295, 1618, 1242, 1205, 1154]/10000 ([0.1295 0.1618 0.1242 0.1205 0.1154]), probabilities: [0.85368764 0.8289839  0.80632    0.8088581  0.7647501 ]%, Ensemble Accuray: 0.1334%, Ensemble Prediction Score: 0.6758386492729187. \n",
      "\n",
      "Train Epoch: 3 [0/60000 (0%)]\tLoss: 0.002632\n",
      "Train Epoch: 3 [25600/60000 (43%)]\tLoss: 0.001370\n",
      "Train Epoch: 3 [51200/60000 (85%)]\tLoss: 0.001534\n",
      "\n",
      "Test set: Average loss: [0.0021516  0.0021558  0.00191587 0.00212313 0.00201469], Accuracy: [9864, 9857, 9875, 9862, 9867]/10000 ([0.9864 0.9857 0.9875 0.9862 0.9867]), probabilities: [0.988643   0.9891593  0.9900069  0.99055034 0.9912917 ]%, Ensemble Accuray: 0.9918%, Ensemble Prediction Score: 0.9852523803710938. \n",
      "\n",
      "\n",
      "Test set: Average loss: [0.13992494 0.14197081 0.13305672 0.14405835 0.14567561], Accuracy: [1182, 1132, 1388, 761, 823]/10000 ([0.1182 0.1132 0.1388 0.0761 0.0823]), probabilities: [0.7227882  0.72983634 0.7014557  0.7089314  0.7275952 ]%, Ensemble Accuray: 0.1094%, Ensemble Prediction Score: 0.6128101348876953. \n",
      "\n",
      "\n",
      "Test set: Average loss: [0.1535892  0.14598422 0.15094756 0.14321795 0.14733153], Accuracy: [1406, 1396, 1358, 1568, 1392]/10000 ([0.1406 0.1396 0.1358 0.1568 0.1392]), probabilities: [0.86846054 0.82153064 0.8408705  0.81538296 0.82123834]%, Ensemble Accuray: 0.1394%, Ensemble Prediction Score: 0.6800653338432312. \n",
      "\n",
      "Train Epoch: 4 [0/60000 (0%)]\tLoss: 0.002064\n",
      "Train Epoch: 4 [25600/60000 (43%)]\tLoss: 0.001491\n",
      "Train Epoch: 4 [51200/60000 (85%)]\tLoss: 0.001644\n"
     ]
    }
   ],
   "source": [
    "log_interval = 100\n",
    "learning_rate = 0.005 #0.005 for Adam optimizer, > 0.05 for SGD optimizer\n",
    "momentum = 0.9\n",
    "n_epochs = 20\n",
    "\n",
    "models = [Net() for _ in range(num_networks)]\n",
    "optimizers = [optim.Adam(model.parameters(), lr=learning_rate) for model in models]\n",
    "\n",
    "\n",
    "num_iterations = len(train_loaders[0])\n",
    "\n",
    "\n",
    "#torch.manual_seed(1)\n",
    "mnist_data = []\n",
    "fashionmnist_data = []\n",
    "notmnist_data = []\n",
    "\n",
    "for epoch in range(1, n_epochs + 1):\n",
    "    train_ensemble(log_interval, models, train_loaders, optimizers, epoch)\n",
    "    \n",
    "    mnist_data.append(test_ensemble(models, test_loader))\n",
    "    fashionmnist_data.append(test_ensemble(models, fashion_test_loader))\n",
    "    notmnist_data.append(test_ensemble(models, not_mnist_test_loader))\n",
    "    \n",
    "for i in range(num_networks):\n",
    "    torch.save(models[i].state_dict(),\"mnist_cnn_cross_entropy{}.pt\".format(i))"
   ]
  },
  {
   "cell_type": "code",
   "execution_count": 2,
   "metadata": {
    "collapsed": true
   },
   "outputs": [],
   "source": [
    "def plot_data(mnist_data, fashionmnist_data, notmnist_data):\n",
    "    # plot with various axes scales\n",
    "    plt.figure(figsize=(15, 7))\n",
    "    datas = [mnist_data,fashionmnist_data, notmnist_data ]\n",
    "    titles = ['MNIST', 'FASHION_MNIST', 'NOT_MNIST']\n",
    "    n = len(datas)\n",
    "\n",
    "    for idx, (data, title) in enumerate(zip(datas, titles)):\n",
    "        single_net_acc, ensemble_net_acc, single_net_prob, ensemble_net_prob = [], [], [], []\n",
    "        for sna, ena, snp, enp in data:\n",
    "            single_net_acc.append(sna)\n",
    "            ensemble_net_acc.append(ena)\n",
    "            single_net_prob.append(snp)\n",
    "            ensemble_net_prob.append(enp)\n",
    "        plot_index = f'1{n}{idx+1}'      \n",
    "        plt.subplot(int(plot_index))\n",
    "        x = range(1, len(single_net_acc)+1)\n",
    "        plt.plot(x, single_net_acc, 'bs', x, ensemble_net_acc, 'ys', x, single_net_prob, 'g^'\n",
    "            , x, ensemble_net_prob, 'r*')\n",
    "        plt.xlabel('epochs')\n",
    "\n",
    "        plt.title(title)\n",
    "        plt.grid(True)\n",
    "    plt.legend(['single_net_acc', 'ensemble_net_acc', 'single_net_prob', 'ensemble_net_prob'], loc='bottom right')\n",
    "\n",
    "    plt.title('Adam Optimizer, Brier Score Loss')\n",
    "    plt.show()"
   ]
  },
  {
   "cell_type": "code",
   "execution_count": null,
   "metadata": {
    "scrolled": true
   },
   "outputs": [],
   "source": [
    "#print(mnist_data, fashionmnist_data, notmnist_data)\n",
    "plot_data(mnist_data, fashionmnist_data, notmnist_data)"
   ]
  },
  {
   "cell_type": "markdown",
   "metadata": {},
   "source": [
    "Train the ensemble model: 20 epochs with SGD optimizer"
   ]
  },
  {
   "cell_type": "code",
   "execution_count": null,
   "metadata": {
    "collapsed": true
   },
   "outputs": [],
   "source": [
    "num_networks = 5\n",
    "log_interval = 100\n",
    "learning_rate = 0.05\n",
    "momentum = 0.9\n",
    "n_epochs = 20\n",
    "train_loaders, test_loader = load_mnist_train_data(batch_size_train, num_networks), \\\n",
    "                            load_mnist_test_data(batch_size_test)\n",
    "models = [Net() for _ in range(num_networks)]\n",
    "optimizers = [optim.SGD(model.parameters(), lr=learning_rate, momentum=momentum) for model in models]\n",
    "\n",
    "\n",
    "num_iterations = len(train_loaders[0])\n",
    "\n",
    "\n",
    "#torch.manual_seed(1)\n",
    "sgd_mnist_data = []\n",
    "sgd_fashionmnist_data = []\n",
    "sgd_notmnist_data = []\n",
    "\n",
    "for epoch in range(1, n_epochs + 1):\n",
    "    train_ensemble(log_interval, models, train_loaders, optimizers, epoch)\n",
    "    \n",
    "    sgd_mnist_data.append(test_ensemble(models, test_loader))\n",
    "    sgd_fashionmnist_data.append(test_ensemble(models, fashion_test_loader))\n",
    "    sgd_notmnist_data.append(test_ensemble(models, not_mnist_test_loader))\n",
    "    \n",
    "for i in range(num_networks):\n",
    "    torch.save(models[i].state_dict(),\"mnist_cnn_sgd_{}.pt\".format(i))"
   ]
  },
  {
   "cell_type": "code",
   "execution_count": null,
   "metadata": {
    "collapsed": true
   },
   "outputs": [],
   "source": [
    "plot_data(sgd_mnist_data, sgd_fashionmnist_data, sgd_notmnist_data)"
   ]
  },
  {
   "cell_type": "markdown",
   "metadata": {},
   "source": [
    "## Out-of-distribution Detection\n",
    "\n",
    "Generally, in the experiments, the ensemble model has better testing accuracy and is less confident when it comes to the out-of-distribution samples. The effect of ensemble model on the detection of out-of-distribution examples depends on **training epochs** and the **optimizer**.\n",
    "* The more epochs we train the ensemble model, the more effective the ensemble model shows--less condident to the out-of-distribution examples.\n",
    "* Adam optimizer makes the ensemble model more effective compared with SGD optimizer. With Adam optimizer, the experimental result is almost the same as acclaimed in the paper, but with SGD optimizer, the effect is much less and the single net model is good at detecting out-of-distribution examples itself already. \n",
    "\n",
    "Takeaway from the experiments: \n",
    "* SGD optimizer is better than Adam optimizer to detect out-of-distribution examples.\n",
    "* To make a single model more resilent to out-of-distribution examples, avoid overfitting the model.\n",
    "* Ensemble model is able to train longer, gain better accuracy, and delay the overfitting."
   ]
  },
  {
   "cell_type": "markdown",
   "metadata": {},
   "source": [
    "### Code to work around the downloading part"
   ]
  },
  {
   "cell_type": "code",
   "execution_count": null,
   "metadata": {
    "collapsed": true
   },
   "outputs": [],
   "source": [
    "# Work around to load the fashion dataset\n",
    "import requests\n",
    "from bento import fwdproxy\n",
    "import shutil\n",
    "from pathlib import Path\n",
    "import gzip\n",
    "root_dir_fashion = '/mnt/shared/liyin/public_html/fashion_mnist_datasets/'\n",
    "files = ['http://fashion-mnist.s3-website.eu-central-1.amazonaws.com/train-images-idx3-ubyte.gz', \\\n",
    "         'http://fashion-mnist.s3-website.eu-central-1.amazonaws.com/train-labels-idx1-ubyte.gz', \\\n",
    "        'http://fashion-mnist.s3-website.eu-central-1.amazonaws.com/t10k-images-idx3-ubyte.gz', \\\n",
    "        'http://fashion-mnist.s3-website.eu-central-1.amazonaws.com/t10k-labels-idx1-ubyte.gz']\n",
    "\n",
    "with fwdproxy():\n",
    "    p = Path(root_dir)\n",
    "    p.mkdir(exist_ok=True)\n",
    "    for file in files:\n",
    "        r = requests.get(file)\n",
    "        print(r.headers.get('content-type'))\n",
    "\n",
    "        open(file.split('/')[-1], 'wb').write(r.content)\n",
    "        shutil.copy(file.split('/')[-1], root_dir)\n",
    "    #load_fashion_mnist_data(batch_size_train)"
   ]
  },
  {
   "cell_type": "code",
   "execution_count": null,
   "metadata": {
    "collapsed": true
   },
   "outputs": [],
   "source": [
    "    \n",
    "import requests\n",
    "from bento import fwdproxy\n",
    "import shutil\n",
    "from pathlib import Path\n",
    "import gzip\n",
    "root_dir = '/mnt/shared/liyin/public_html/not_mnist_dataset/notMNIST_small'\n",
    "files = ['http://yaroslavvb.com/upload/notMNIST/notMNIST_small.tar.gz']\n",
    "\n",
    "with fwdproxy():\n",
    "    p = Path(root_dir)\n",
    "    p.mkdir(exist_ok=True)\n",
    "    for file in files:\n",
    "        r = requests.get(file)\n",
    "        print(r.headers.get('content-type'))\n",
    "\n",
    "        open(file.split('/')[-1], 'wb').write(r.content)\n",
    "        shutil.copy(file.split('/')[-1], root_dir)"
   ]
  },
  {
   "cell_type": "code",
   "execution_count": null,
   "metadata": {
    "collapsed": true
   },
   "outputs": [],
   "source": [
    "! ls /mnt/shared/liyin/public_html/not_mnist_dataset/notMNIST_small"
   ]
  }
 ],
 "metadata": {
  "anp_cloned_from": {
   "notebook_id": "655908905154909",
   "revision_id": "2565961873676225"
  },
  "bento_stylesheets": {
   "bento/extensions/flow/main.css": true,
   "bento/extensions/kernel_selector/main.css": true,
   "bento/extensions/kernel_ui/main.css": true,
   "bento/extensions/new_kernel/main.css": true,
   "bento/extensions/system_usage/main.css": true,
   "bento/extensions/theme/main.css": true
  },
  "disseminate_notebook_id": {
   "notebook_id": "686272185452648"
  },
  "disseminate_notebook_info": {
   "bento_version": "20200330-112312",
   "description": "T62336363",
   "hide_code": false,
   "hipster_group": "",
   "kernel_build_info": {
    "deps": [
     "//aml/ml_foundation/exp_platform:all_deps",
     "//manifold/clients/python:manifold_client",
     "//pytorch:all_deps",
     "//pytorch/gpytorch:gpytorch_examples",
     "//third-party-source/native/pyro:pyro"
    ],
    "external_deps": [
     "('numpy', 'any')"
    ]
   },
   "no_uii": true,
   "notebook_number": "241029",
   "others_can_edit": false,
   "reviewers": "",
   "revision_id": "218772742686666",
   "tags": "",
   "tasks": "",
   "title": "Ensemble_model_classification-final"
  },
  "kernelspec": {
   "display_name": "uncertainty",
   "language": "python",
   "name": "bento_kernel_uncertainty"
  },
  "language_info": {
   "codemirror_mode": {
    "name": "ipython",
    "version": 3
   },
   "file_extension": ".py",
   "mimetype": "text/x-python",
   "name": "python",
   "nbconvert_exporter": "python",
   "pygments_lexer": "ipython3",
   "version": "3.7.5+"
  }
 },
 "nbformat": 4,
 "nbformat_minor": 2
}
